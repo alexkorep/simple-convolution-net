{
 "cells": [
  {
   "cell_type": "code",
   "execution_count": 1,
   "metadata": {},
   "outputs": [],
   "source": [
    "from PIL import Image, ImageDraw\n",
    "import random\n",
    "import os\n",
    "import shutil\n",
    "from IPython.core.display import Image as DisplayImage, display"
   ]
  },
  {
   "cell_type": "code",
   "execution_count": 2,
   "metadata": {},
   "outputs": [],
   "source": [
    "OUTDIR = 'shapes'\n",
    "NUM_CLASSES = 2\n",
    "size = (48, 48)"
   ]
  },
  {
   "cell_type": "code",
   "execution_count": 3,
   "metadata": {},
   "outputs": [],
   "source": [
    "import math\n",
    "\n",
    "def draw_shape(corners, imgname):\n",
    "  image = Image.new('RGB', size)\n",
    "  draw = ImageDraw.Draw(image)\n",
    "\n",
    "  radius = 15 #random.randint(0, min(size[0], size[1])/2 - 5)\n",
    "  x0 = random.randint(radius, size[0] - radius)\n",
    "  y0 = random.randint(radius, size[1] - radius)\n",
    "  angle = random.uniform(0, math.pi)\n",
    "  x_prev = math.cos(angle)*radius + x0\n",
    "  y_prev = math.sin(angle)*radius + y0\n",
    "  step = math.pi*2/corners\n",
    "  for i in range(corners):\n",
    "    angle += step\n",
    "    x = math.cos(angle)*radius + x0\n",
    "    y = math.sin(angle)*radius + y0\n",
    "    #print(x, y)\n",
    "    draw.line((x_prev, y_prev, x, y), fill=255)\n",
    "    x_prev = x\n",
    "    y_prev = y\n",
    "  del draw  \n",
    "  image.save(imgname, \"PNG\")\n",
    "  del image"
   ]
  },
  {
   "cell_type": "code",
   "execution_count": 4,
   "metadata": {},
   "outputs": [],
   "source": [
    "def generate_img(count, dir_name):\n",
    "    full_img_root_dir = os.path.join(OUTDIR, \n",
    "                           dir_name)\n",
    "    # recreate dir\n",
    "    shutil.rmtree(full_img_root_dir, ignore_errors=True)\n",
    "    os.makedirs(full_img_root_dir)\n",
    "    \n",
    "    for corners in range(3, 3 + NUM_CLASSES):\n",
    "      dirname = os.path.join(OUTDIR, \n",
    "                             dir_name,\n",
    "                             '{}'.format(corners))\n",
    "      # Recreate dir\n",
    "      shutil.rmtree(dirname, ignore_errors=True)\n",
    "      os.makedirs(dirname)\n",
    "\n",
    "      for nimage in range(count):\n",
    "        filename = os.path.join(dirname,\n",
    "                               '{}.png'.format(nimage))\n",
    "        draw_shape(corners, filename)\n",
    "        \n",
    "        #display(DisplayImage(url=filename))\n",
    "        #print(filename)"
   ]
  },
  {
   "cell_type": "code",
   "execution_count": 5,
   "metadata": {},
   "outputs": [],
   "source": [
    "generate_img(1000, 'train')\n",
    "generate_img(500, 'validate')"
   ]
  },
  {
   "cell_type": "code",
   "execution_count": 19,
   "metadata": {},
   "outputs": [],
   "source": [
    "generate_img(1000, 'evaluate')"
   ]
  },
  {
   "cell_type": "code",
   "execution_count": 6,
   "metadata": {},
   "outputs": [
    {
     "data": {
      "text/html": [
       "<img src=\"shapes/train/3/122.png\"/>"
      ],
      "text/plain": [
       "<IPython.core.display.Image object>"
      ]
     },
     "execution_count": 6,
     "metadata": {},
     "output_type": "execute_result"
    }
   ],
   "source": [
    "DisplayImage(url= \"shapes/train/3/122.png\")"
   ]
  },
  {
   "cell_type": "code",
   "execution_count": 7,
   "metadata": {},
   "outputs": [
    {
     "data": {
      "text/html": [
       "<img src=\"shapes/train/4/133.png\"/>"
      ],
      "text/plain": [
       "<IPython.core.display.Image object>"
      ]
     },
     "execution_count": 7,
     "metadata": {},
     "output_type": "execute_result"
    }
   ],
   "source": [
    "DisplayImage(url= \"shapes/train/4/133.png\")"
   ]
  },
  {
   "cell_type": "markdown",
   "metadata": {},
   "source": [
    "# Network"
   ]
  },
  {
   "cell_type": "code",
   "execution_count": 21,
   "metadata": {},
   "outputs": [],
   "source": [
    "from __future__ import print_function\n",
    "import keras\n",
    "from keras.datasets import cifar10\n",
    "from keras.preprocessing.image import ImageDataGenerator\n",
    "from keras.models import Sequential\n",
    "from keras.layers import Dense, Dropout, Activation, Flatten\n",
    "from keras.layers import Conv2D, MaxPooling2D, LSTM, ConvLSTM2D, Reshape, ZeroPadding2D,Convolution2D\n",
    "from keras.optimizers import SGD\n",
    "from keras.utils import plot_model\n",
    "\n",
    "import os\n",
    "import pickle\n",
    "import numpy as np\n",
    "#from IPython.display import Image"
   ]
  },
  {
   "cell_type": "code",
   "execution_count": 47,
   "metadata": {},
   "outputs": [],
   "source": [
    "batch_size = 100\n",
    "img_size = size\n",
    "INPUT_SHAPE = (48, 48, 3)"
   ]
  },
  {
   "cell_type": "code",
   "execution_count": 48,
   "metadata": {},
   "outputs": [
    {
     "name": "stdout",
     "output_type": "stream",
     "text": [
      "Found 2000 images belonging to 2 classes.\n"
     ]
    }
   ],
   "source": [
    "train_datagen = ImageDataGenerator()\n",
    "train_generator = train_datagen.flow_from_directory(\n",
    "        os.path.join(OUTDIR, 'train'),\n",
    "        target_size=img_size,\n",
    "        batch_size=batch_size,\n",
    "        class_mode='categorical')"
   ]
  },
  {
   "cell_type": "code",
   "execution_count": 49,
   "metadata": {},
   "outputs": [
    {
     "name": "stdout",
     "output_type": "stream",
     "text": [
      "Found 1000 images belonging to 2 classes.\n"
     ]
    }
   ],
   "source": [
    "validation_datagen = ImageDataGenerator()\n",
    "validation_generator = validation_datagen.flow_from_directory(\n",
    "        os.path.join(OUTDIR, 'validate'),\n",
    "        target_size=img_size,\n",
    "        batch_size=batch_size,\n",
    "        class_mode='categorical')"
   ]
  },
  {
   "cell_type": "code",
   "execution_count": 50,
   "metadata": {},
   "outputs": [
    {
     "name": "stdout",
     "output_type": "stream",
     "text": [
      "Found 2000 images belonging to 2 classes.\n"
     ]
    }
   ],
   "source": [
    "evaluation_datagen = ImageDataGenerator()\n",
    "evaluation_generator = evaluation_datagen.flow_from_directory(\n",
    "        os.path.join(OUTDIR, 'evaluate'),\n",
    "        target_size=img_size,\n",
    "        batch_size=10,\n",
    "        shuffle=False,\n",
    "        class_mode='categorical')"
   ]
  },
  {
   "cell_type": "code",
   "execution_count": 61,
   "metadata": {},
   "outputs": [],
   "source": [
    "model = Sequential()\n",
    "\n",
    "model.add(ZeroPadding2D((1,1),input_shape=INPUT_SHAPE))\n",
    "model.add(Conv2D(32, (3, 3), activation='relu'))\n",
    "model.add(ZeroPadding2D((1,1)))\n",
    "model.add(Conv2D(32, (3, 3), activation='relu'))\n",
    "model.add(MaxPooling2D((2,2), strides=(2,2)))\n",
    "\n",
    "model.add(Conv2D(16, (2, 2), activation='relu'))\n",
    "model.add(MaxPooling2D((2,2), strides=(2,2)))\n",
    "\n",
    "model.add(Flatten())\n",
    "model.add(Dense(32, activation='relu'))\n",
    "model.add(Dropout(0.5))\n",
    "model.add(Dense(32, activation='relu'))\n",
    "model.add(Dropout(0.5))\n",
    "model.add(Dense(NUM_CLASSES, activation='softmax'))\n"
   ]
  },
  {
   "cell_type": "code",
   "execution_count": 62,
   "metadata": {},
   "outputs": [],
   "source": [
    "model.compile(loss='categorical_crossentropy',\n",
    "              optimizer='sgd',\n",
    "              metrics=['accuracy'])"
   ]
  },
  {
   "cell_type": "code",
   "execution_count": 63,
   "metadata": {},
   "outputs": [
    {
     "name": "stdout",
     "output_type": "stream",
     "text": [
      "Epoch 1/10\n",
      "100/100 [==============================] - 175s - loss: 0.8081 - acc: 0.5519 - val_loss: 0.6414 - val_acc: 0.7070\n",
      "Epoch 2/10\n",
      "100/100 [==============================] - 174s - loss: 0.5985 - acc: 0.6501 - val_loss: 0.4357 - val_acc: 0.8690\n",
      "Epoch 3/10\n",
      "100/100 [==============================] - 176s - loss: 0.4096 - acc: 0.7790 - val_loss: 0.1347 - val_acc: 0.9650\n",
      "Epoch 4/10\n",
      "100/100 [==============================] - 177s - loss: 0.2505 - acc: 0.8651 - val_loss: 0.0491 - val_acc: 0.9890\n",
      "Epoch 5/10\n",
      "100/100 [==============================] - 178s - loss: 0.1780 - acc: 0.9047 - val_loss: 0.0337 - val_acc: 0.9900\n",
      "Epoch 6/10\n",
      "100/100 [==============================] - 178s - loss: 0.1365 - acc: 0.9248 - val_loss: 0.0145 - val_acc: 0.9990\n",
      "Epoch 7/10\n",
      "100/100 [==============================] - 178s - loss: 0.1179 - acc: 0.9365 - val_loss: 0.0083 - val_acc: 0.9990\n",
      "Epoch 8/10\n",
      "100/100 [==============================] - 178s - loss: 0.1049 - acc: 0.9437 - val_loss: 0.0094 - val_acc: 0.9980\n",
      "Epoch 9/10\n",
      "100/100 [==============================] - 197s - loss: 0.0894 - acc: 0.9531 - val_loss: 0.0105 - val_acc: 0.9970\n",
      "Epoch 10/10\n",
      "100/100 [==============================] - 182s - loss: 0.0773 - acc: 0.9628 - val_loss: 0.0079 - val_acc: 0.9980\n"
     ]
    },
    {
     "data": {
      "text/plain": [
       "<keras.callbacks.History at 0x7fe85c8c5898>"
      ]
     },
     "execution_count": 63,
     "metadata": {},
     "output_type": "execute_result"
    }
   ],
   "source": [
    "model.fit_generator(\n",
    "        train_generator,\n",
    "        steps_per_epoch=100,\n",
    "        epochs=10,\n",
    "        validation_data=validation_generator,\n",
    "        validation_steps=10)"
   ]
  },
  {
   "cell_type": "code",
   "execution_count": 64,
   "metadata": {},
   "outputs": [],
   "source": [
    "model.save_weights('shapes002.h5')"
   ]
  },
  {
   "cell_type": "code",
   "execution_count": 65,
   "metadata": {},
   "outputs": [],
   "source": [
    "model.load_weights('shapes002.h5')"
   ]
  },
  {
   "cell_type": "code",
   "execution_count": 66,
   "metadata": {},
   "outputs": [
    {
     "data": {
      "text/plain": [
       "[0.024582737700997656, 0.99499999880790713]"
      ]
     },
     "execution_count": 66,
     "metadata": {},
     "output_type": "execute_result"
    }
   ],
   "source": [
    "model.evaluate_generator(evaluation_generator, 100)"
   ]
  },
  {
   "cell_type": "code",
   "execution_count": null,
   "metadata": {},
   "outputs": [],
   "source": []
  }
 ],
 "metadata": {
  "kernelspec": {
   "display_name": "Python 3",
   "language": "python",
   "name": "python3"
  },
  "language_info": {
   "codemirror_mode": {
    "name": "ipython",
    "version": 3
   },
   "file_extension": ".py",
   "mimetype": "text/x-python",
   "name": "python",
   "nbconvert_exporter": "python",
   "pygments_lexer": "ipython3",
   "version": "3.5.2"
  }
 },
 "nbformat": 4,
 "nbformat_minor": 2
}
